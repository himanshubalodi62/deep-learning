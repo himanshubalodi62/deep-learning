{
  "cells": [
    {
      "cell_type": "markdown",
      "metadata": {
        "id": "G_On-uhGoQo_"
      },
      "source": [
        "## Transfer Learning VGG 16 and VGG 19 using Keras"
      ]
    },
    {
      "cell_type": "code",
      "execution_count": null,
      "metadata": {
        "colab": {
          "base_uri": "https://localhost:8080/"
        },
        "id": "COCzcPGroQpC",
        "outputId": "26488431-5e3e-488f-c0e0-2767a2fc893d"
      },
      "outputs": [
        {
          "output_type": "stream",
          "name": "stdout",
          "text": [
            "Tue Mar 28 04:42:19 2023       \n",
            "+-----------------------------------------------------------------------------+\n",
            "| NVIDIA-SMI 525.85.12    Driver Version: 525.85.12    CUDA Version: 12.0     |\n",
            "|-------------------------------+----------------------+----------------------+\n",
            "| GPU  Name        Persistence-M| Bus-Id        Disp.A | Volatile Uncorr. ECC |\n",
            "| Fan  Temp  Perf  Pwr:Usage/Cap|         Memory-Usage | GPU-Util  Compute M. |\n",
            "|                               |                      |               MIG M. |\n",
            "|===============================+======================+======================|\n",
            "|   0  Tesla T4            Off  | 00000000:00:04.0 Off |                    0 |\n",
            "| N/A   34C    P8     9W /  70W |      0MiB / 15360MiB |      0%      Default |\n",
            "|                               |                      |                  N/A |\n",
            "+-------------------------------+----------------------+----------------------+\n",
            "                                                                               \n",
            "+-----------------------------------------------------------------------------+\n",
            "| Processes:                                                                  |\n",
            "|  GPU   GI   CI        PID   Type   Process name                  GPU Memory |\n",
            "|        ID   ID                                                   Usage      |\n",
            "|=============================================================================|\n",
            "|  No running processes found                                                 |\n",
            "+-----------------------------------------------------------------------------+\n"
          ]
        }
      ],
      "source": [
        "!nvidia-smi"
      ]
    },
    {
      "cell_type": "code",
      "execution_count": null,
      "metadata": {
        "colab": {
          "base_uri": "https://localhost:8080/"
        },
        "id": "YcHqtmlxoQpD",
        "outputId": "b9b6288b-5eb7-485f-9495-d4545ce270e1"
      },
      "outputs": [
        {
          "output_type": "stream",
          "name": "stdout",
          "text": [
            "2.11.0\n"
          ]
        }
      ],
      "source": [
        "import tensorflow as tf\n",
        "print(tf.__version__)"
      ]
    },
    {
      "cell_type": "code",
      "execution_count": null,
      "metadata": {
        "id": "CbJjhNbzoQpE"
      },
      "outputs": [],
      "source": [
        "# import the libraries as shown below\n",
        "\n",
        "from tensorflow.keras.layers import Input, Lambda, Dense, Flatten\n",
        "from tensorflow.keras.models import Model\n",
        "from tensorflow.keras.applications.vgg16 import VGG16\n",
        "from tensorflow.keras.applications.vgg19 import VGG19\n",
        "from tensorflow.keras.preprocessing import image\n",
        "from tensorflow.keras.preprocessing.image import ImageDataGenerator,load_img\n",
        "from tensorflow.keras.models import Sequential\n",
        "import numpy as np\n",
        "from glob import glob"
      ]
    },
    {
      "cell_type": "code",
      "source": [
        "from google.colab import drive\n",
        "drive.mount('/content/drive')"
      ],
      "metadata": {
        "colab": {
          "base_uri": "https://localhost:8080/"
        },
        "id": "2HOVb0wfuUdI",
        "outputId": "79d432d9-8743-4d1f-cdb7-dc03adccb50f"
      },
      "execution_count": null,
      "outputs": [
        {
          "output_type": "stream",
          "name": "stdout",
          "text": [
            "Drive already mounted at /content/drive; to attempt to forcibly remount, call drive.mount(\"/content/drive\", force_remount=True).\n"
          ]
        }
      ]
    },
    {
      "cell_type": "code",
      "source": [
        "ROOT_PATH = '/content/drive/MyDrive/VggNEt'"
      ],
      "metadata": {
        "id": "LSscBP_Nul3k"
      },
      "execution_count": null,
      "outputs": []
    },
    {
      "cell_type": "markdown",
      "source": [
        "# New Section"
      ],
      "metadata": {
        "id": "AJjhiRVIfEG5"
      }
    },
    {
      "cell_type": "markdown",
      "source": [
        "# New Section"
      ],
      "metadata": {
        "id": "XS4w6CVGfEJx"
      }
    },
    {
      "cell_type": "code",
      "source": [
        "!pwd"
      ],
      "metadata": {
        "colab": {
          "base_uri": "https://localhost:8080/"
        },
        "id": "e1jhD1joXxNH",
        "outputId": "67898ed4-3cc2-4a1a-be7b-615de7ec55af"
      },
      "execution_count": null,
      "outputs": [
        {
          "output_type": "stream",
          "name": "stdout",
          "text": [
            "/content\n"
          ]
        }
      ]
    },
    {
      "cell_type": "code",
      "source": [
        "import os\n",
        "os.chdir(ROOT_PATH)\n",
        "os.getcwd()"
      ],
      "metadata": {
        "colab": {
          "base_uri": "https://localhost:8080/",
          "height": 35
        },
        "id": "UmIsJIoTu1Nv",
        "outputId": "04414e1e-cc9e-4b73-c907-1655672e022f"
      },
      "execution_count": null,
      "outputs": [
        {
          "output_type": "execute_result",
          "data": {
            "text/plain": [
              "'/content/drive/MyDrive/VggNEt'"
            ],
            "application/vnd.google.colaboratory.intrinsic+json": {
              "type": "string"
            }
          },
          "metadata": {},
          "execution_count": 13
        }
      ]
    },
    {
      "cell_type": "code",
      "execution_count": null,
      "metadata": {
        "id": "JJRs9wzsoQpE"
      },
      "outputs": [],
      "source": [
        "# re-size all the images to this\n",
        "IMAGE_SIZE = [224, 224]\n",
        "\n",
        "train_path = 'flowers/train'\n",
        "valid_path = 'flowers/validation'\n"
      ]
    },
    {
      "cell_type": "code",
      "execution_count": null,
      "metadata": {
        "colab": {
          "base_uri": "https://localhost:8080/"
        },
        "id": "5FOgov0ooQpE",
        "outputId": "e23f5193-8022-43b7-cacd-edd96dca88ee"
      },
      "outputs": [
        {
          "output_type": "stream",
          "name": "stdout",
          "text": [
            "Downloading data from https://storage.googleapis.com/tensorflow/keras-applications/vgg16/vgg16_weights_tf_dim_ordering_tf_kernels_notop.h5\n",
            "58889256/58889256 [==============================] - 0s 0us/step\n"
          ]
        }
      ],
      "source": [
        "# Import the VGG16 library as shown below and add preprocessing layer to the front of VGG\n",
        "# Here we will be using imagenet weights\n",
        "\n",
        "vgg16 = VGG16(input_shape=IMAGE_SIZE + [3], weights='imagenet', include_top=False)\n"
      ]
    },
    {
      "cell_type": "code",
      "source": [
        "# don't train existing weights\n",
        "for layer in vgg16.layers:\n",
        "  print(layer)"
      ],
      "metadata": {
        "colab": {
          "base_uri": "https://localhost:8080/"
        },
        "id": "hgy8jszDZI1E",
        "outputId": "6522f074-181d-4146-f5d1-23c553465590"
      },
      "execution_count": null,
      "outputs": [
        {
          "output_type": "stream",
          "name": "stdout",
          "text": [
            "<keras.engine.input_layer.InputLayer object at 0x7f853bcc1940>\n",
            "<keras.layers.convolutional.conv2d.Conv2D object at 0x7f84b9d79310>\n",
            "<keras.layers.convolutional.conv2d.Conv2D object at 0x7f84b9d79ac0>\n",
            "<keras.layers.pooling.max_pooling2d.MaxPooling2D object at 0x7f84b94e0d90>\n",
            "<keras.layers.convolutional.conv2d.Conv2D object at 0x7f84b94e0340>\n",
            "<keras.layers.convolutional.conv2d.Conv2D object at 0x7f84b00ba190>\n",
            "<keras.layers.pooling.max_pooling2d.MaxPooling2D object at 0x7f84b00b01c0>\n",
            "<keras.layers.convolutional.conv2d.Conv2D object at 0x7f84b00badc0>\n",
            "<keras.layers.convolutional.conv2d.Conv2D object at 0x7f84b00c3280>\n",
            "<keras.layers.convolutional.conv2d.Conv2D object at 0x7f84b00c3eb0>\n",
            "<keras.layers.pooling.max_pooling2d.MaxPooling2D object at 0x7f84b00cf220>\n",
            "<keras.layers.convolutional.conv2d.Conv2D object at 0x7f84b00c9190>\n",
            "<keras.layers.convolutional.conv2d.Conv2D object at 0x7f84b00cffa0>\n",
            "<keras.layers.convolutional.conv2d.Conv2D object at 0x7f84b00cf340>\n",
            "<keras.layers.pooling.max_pooling2d.MaxPooling2D object at 0x7f84b00ded30>\n",
            "<keras.layers.convolutional.conv2d.Conv2D object at 0x7f84b00df880>\n",
            "<keras.layers.convolutional.conv2d.Conv2D object at 0x7f84b00dffd0>\n",
            "<keras.layers.convolutional.conv2d.Conv2D object at 0x7f84b00d60a0>\n",
            "<keras.layers.pooling.max_pooling2d.MaxPooling2D object at 0x7f84b006e850>\n"
          ]
        }
      ]
    },
    {
      "cell_type": "code",
      "execution_count": null,
      "metadata": {
        "id": "Rx7AkOQIoQpF"
      },
      "outputs": [],
      "source": [
        "# don't train existing weights\n",
        "for layer in vgg16.layers:\n",
        "    layer.trainable = False"
      ]
    },
    {
      "cell_type": "code",
      "source": [
        "for layer in vgg16.layers:\n",
        "  print(layer.name,layer.trainable)"
      ],
      "metadata": {
        "colab": {
          "base_uri": "https://localhost:8080/"
        },
        "id": "wNtlHqA8pyBx",
        "outputId": "c9aa77b2-59d5-4a42-fec3-cac1e847d138"
      },
      "execution_count": null,
      "outputs": [
        {
          "output_type": "stream",
          "name": "stdout",
          "text": [
            "input_1 False\n",
            "block1_conv1 False\n",
            "block1_conv2 False\n",
            "block1_pool False\n",
            "block2_conv1 False\n",
            "block2_conv2 False\n",
            "block2_pool False\n",
            "block3_conv1 False\n",
            "block3_conv2 False\n",
            "block3_conv3 False\n",
            "block3_pool False\n",
            "block4_conv1 False\n",
            "block4_conv2 False\n",
            "block4_conv3 False\n",
            "block4_pool False\n",
            "block5_conv1 False\n",
            "block5_conv2 False\n",
            "block5_conv3 False\n",
            "block5_pool False\n"
          ]
        }
      ]
    },
    {
      "cell_type": "code",
      "source": [
        "vgg16.summary()"
      ],
      "metadata": {
        "id": "5WBu-g3rqIcw",
        "outputId": "44b86ba6-ff41-4467-e1f9-bcd65c454b40",
        "colab": {
          "base_uri": "https://localhost:8080/"
        }
      },
      "execution_count": null,
      "outputs": [
        {
          "output_type": "stream",
          "name": "stdout",
          "text": [
            "Model: \"vgg16\"\n",
            "_________________________________________________________________\n",
            " Layer (type)                Output Shape              Param #   \n",
            "=================================================================\n",
            " input_1 (InputLayer)        [(None, 224, 224, 3)]     0         \n",
            "                                                                 \n",
            " block1_conv1 (Conv2D)       (None, 224, 224, 64)      1792      \n",
            "                                                                 \n",
            " block1_conv2 (Conv2D)       (None, 224, 224, 64)      36928     \n",
            "                                                                 \n",
            " block1_pool (MaxPooling2D)  (None, 112, 112, 64)      0         \n",
            "                                                                 \n",
            " block2_conv1 (Conv2D)       (None, 112, 112, 128)     73856     \n",
            "                                                                 \n",
            " block2_conv2 (Conv2D)       (None, 112, 112, 128)     147584    \n",
            "                                                                 \n",
            " block2_pool (MaxPooling2D)  (None, 56, 56, 128)       0         \n",
            "                                                                 \n",
            " block3_conv1 (Conv2D)       (None, 56, 56, 256)       295168    \n",
            "                                                                 \n",
            " block3_conv2 (Conv2D)       (None, 56, 56, 256)       590080    \n",
            "                                                                 \n",
            " block3_conv3 (Conv2D)       (None, 56, 56, 256)       590080    \n",
            "                                                                 \n",
            " block3_pool (MaxPooling2D)  (None, 28, 28, 256)       0         \n",
            "                                                                 \n",
            " block4_conv1 (Conv2D)       (None, 28, 28, 512)       1180160   \n",
            "                                                                 \n",
            " block4_conv2 (Conv2D)       (None, 28, 28, 512)       2359808   \n",
            "                                                                 \n",
            " block4_conv3 (Conv2D)       (None, 28, 28, 512)       2359808   \n",
            "                                                                 \n",
            " block4_pool (MaxPooling2D)  (None, 14, 14, 512)       0         \n",
            "                                                                 \n",
            " block5_conv1 (Conv2D)       (None, 14, 14, 512)       2359808   \n",
            "                                                                 \n",
            " block5_conv2 (Conv2D)       (None, 14, 14, 512)       2359808   \n",
            "                                                                 \n",
            " block5_conv3 (Conv2D)       (None, 14, 14, 512)       2359808   \n",
            "                                                                 \n",
            " block5_pool (MaxPooling2D)  (None, 7, 7, 512)         0         \n",
            "                                                                 \n",
            "=================================================================\n",
            "Total params: 14,714,688\n",
            "Trainable params: 0\n",
            "Non-trainable params: 14,714,688\n",
            "_________________________________________________________________\n"
          ]
        }
      ]
    },
    {
      "cell_type": "code",
      "execution_count": null,
      "metadata": {
        "id": "N5TBzMtLoQpF"
      },
      "outputs": [],
      "source": [
        "  # useful for getting number of output classes\n",
        "folders = glob('flowers/train/*')"
      ]
    },
    {
      "cell_type": "code",
      "execution_count": null,
      "metadata": {
        "colab": {
          "base_uri": "https://localhost:8080/"
        },
        "id": "mEAc82BQoQpF",
        "outputId": "422c40e4-2902-4fd4-f959-9b929d725d96"
      },
      "outputs": [
        {
          "output_type": "execute_result",
          "data": {
            "text/plain": [
              "['flowers/train/daisy',\n",
              " 'flowers/train/dandelion',\n",
              " 'flowers/train/rose',\n",
              " 'flowers/train/sunflower',\n",
              " 'flowers/train/tulip']"
            ]
          },
          "metadata": {},
          "execution_count": 21
        }
      ],
      "source": [
        "folders"
      ]
    },
    {
      "cell_type": "code",
      "source": [
        "len(folders)"
      ],
      "metadata": {
        "colab": {
          "base_uri": "https://localhost:8080/"
        },
        "id": "TxWePQ04vWG0",
        "outputId": "478cccd5-dc69-4164-9685-a8f1587b5322"
      },
      "execution_count": null,
      "outputs": [
        {
          "output_type": "execute_result",
          "data": {
            "text/plain": [
              "5"
            ]
          },
          "metadata": {},
          "execution_count": 22
        }
      ]
    },
    {
      "cell_type": "code",
      "source": [
        "model = Sequential()\n",
        "\n",
        "model.add(vgg16)\n",
        "model.add(Flatten())\n",
        "model.add(Dense(256,activation='relu'))\n",
        "model.add(Dense(5,activation='softmax'))"
      ],
      "metadata": {
        "id": "az2MrlO7vcfE"
      },
      "execution_count": null,
      "outputs": []
    },
    {
      "cell_type": "code",
      "execution_count": null,
      "metadata": {
        "colab": {
          "base_uri": "https://localhost:8080/"
        },
        "id": "pCbQyhRloQpG",
        "outputId": "01ff1ba8-4cb6-4641-c35d-466d85df8ad8"
      },
      "outputs": [
        {
          "output_type": "stream",
          "name": "stdout",
          "text": [
            "Model: \"sequential\"\n",
            "_________________________________________________________________\n",
            " Layer (type)                Output Shape              Param #   \n",
            "=================================================================\n",
            " vgg16 (Functional)          (None, 7, 7, 512)         14714688  \n",
            "                                                                 \n",
            " flatten (Flatten)           (None, 25088)             0         \n",
            "                                                                 \n",
            " dense (Dense)               (None, 256)               6422784   \n",
            "                                                                 \n",
            " dense_1 (Dense)             (None, 5)                 1285      \n",
            "                                                                 \n",
            "=================================================================\n",
            "Total params: 21,138,757\n",
            "Trainable params: 6,424,069\n",
            "Non-trainable params: 14,714,688\n",
            "_________________________________________________________________\n"
          ]
        }
      ],
      "source": [
        "# view the structure of the model\n",
        "model.summary()"
      ]
    },
    {
      "cell_type": "code",
      "execution_count": null,
      "metadata": {
        "id": "_v9RaVP0oQpG"
      },
      "outputs": [],
      "source": [
        "# tell the model what cost and optimization method to use\n",
        "model.compile(\n",
        "  loss='categorical_crossentropy',\n",
        "  optimizer='adam',\n",
        "  metrics=['accuracy']\n",
        ")\n"
      ]
    },
    {
      "cell_type": "code",
      "execution_count": null,
      "metadata": {
        "id": "ccGtjaZBoQpH"
      },
      "outputs": [],
      "source": [
        "# Use the Image Data Generator to import the images from the dataset\n",
        "from tensorflow.keras.preprocessing.image import ImageDataGenerator\n",
        "\n",
        "train_datagen = ImageDataGenerator(rescale = 1./255,\n",
        "                                   shear_range = 0.2,\n",
        "                                   zoom_range = 0.2,\n",
        "                                   horizontal_flip = True)\n",
        "\n",
        "test_datagen = ImageDataGenerator(rescale = 1./255)"
      ]
    },
    {
      "cell_type": "code",
      "source": [
        "!pwd"
      ],
      "metadata": {
        "colab": {
          "base_uri": "https://localhost:8080/"
        },
        "id": "QRP78ABJbyRt",
        "outputId": "6d823c95-e244-460c-dd9f-d5be89752fa6"
      },
      "execution_count": null,
      "outputs": [
        {
          "output_type": "stream",
          "name": "stdout",
          "text": [
            "/content/drive/MyDrive/VggNEt\n"
          ]
        }
      ]
    },
    {
      "cell_type": "code",
      "execution_count": null,
      "metadata": {
        "colab": {
          "base_uri": "https://localhost:8080/"
        },
        "id": "as_UVGKeoQpH",
        "outputId": "79813dea-48cd-4646-d770-6755c3e852e6"
      },
      "outputs": [
        {
          "output_type": "stream",
          "name": "stdout",
          "text": [
            "Found 600 images belonging to 5 classes.\n"
          ]
        }
      ],
      "source": [
        "# Make sure you provide the same target size as initialied for the image size\n",
        "training_set = train_datagen.flow_from_directory('flowers/train',\n",
        "                                                 target_size = (224, 224),\n",
        "                                                 batch_size = 32,\n",
        "                                                 class_mode = 'categorical')"
      ]
    },
    {
      "cell_type": "code",
      "execution_count": null,
      "metadata": {
        "colab": {
          "base_uri": "https://localhost:8080/"
        },
        "id": "TGVUtA-8oQpH",
        "outputId": "851da747-5f36-42fa-8fe3-f697cb44b57a"
      },
      "outputs": [
        {
          "output_type": "stream",
          "name": "stdout",
          "text": [
            "Found 300 images belonging to 5 classes.\n"
          ]
        }
      ],
      "source": [
        "test_set = test_datagen.flow_from_directory('flowers/validation',\n",
        "                                            target_size = (224, 224),\n",
        "                                            batch_size = 32,\n",
        "                                            class_mode = 'categorical')"
      ]
    },
    {
      "cell_type": "code",
      "execution_count": null,
      "metadata": {
        "scrolled": true,
        "colab": {
          "base_uri": "https://localhost:8080/"
        },
        "id": "JbP-SQBhoQpH",
        "outputId": "bf6cee87-a7c9-4302-bf65-ff1afa3d7b74"
      },
      "outputs": [
        {
          "output_type": "stream",
          "name": "stdout",
          "text": [
            "Epoch 1/10\n",
            "19/19 [==============================] - 159s 8s/step - loss: 3.0089 - accuracy: 0.3817 - val_loss: 1.2181 - val_accuracy: 0.5800\n",
            "Epoch 2/10\n",
            "19/19 [==============================] - 13s 683ms/step - loss: 0.7506 - accuracy: 0.7250 - val_loss: 0.8660 - val_accuracy: 0.7167\n",
            "Epoch 3/10\n",
            "19/19 [==============================] - 14s 765ms/step - loss: 0.4927 - accuracy: 0.8333 - val_loss: 0.8180 - val_accuracy: 0.7433\n",
            "Epoch 4/10\n",
            "19/19 [==============================] - 13s 672ms/step - loss: 0.3272 - accuracy: 0.9000 - val_loss: 0.7422 - val_accuracy: 0.7600\n",
            "Epoch 5/10\n",
            "19/19 [==============================] - 13s 678ms/step - loss: 0.2658 - accuracy: 0.9083 - val_loss: 0.7348 - val_accuracy: 0.7533\n",
            "Epoch 6/10\n",
            "19/19 [==============================] - 13s 685ms/step - loss: 0.2023 - accuracy: 0.9500 - val_loss: 0.8165 - val_accuracy: 0.7633\n",
            "Epoch 7/10\n",
            "19/19 [==============================] - 12s 659ms/step - loss: 0.1505 - accuracy: 0.9700 - val_loss: 0.8404 - val_accuracy: 0.7433\n",
            "Epoch 8/10\n",
            "19/19 [==============================] - 13s 674ms/step - loss: 0.1363 - accuracy: 0.9683 - val_loss: 0.6874 - val_accuracy: 0.7867\n",
            "Epoch 9/10\n",
            "19/19 [==============================] - 13s 679ms/step - loss: 0.1062 - accuracy: 0.9783 - val_loss: 0.8071 - val_accuracy: 0.7767\n",
            "Epoch 10/10\n",
            "19/19 [==============================] - 12s 644ms/step - loss: 0.0883 - accuracy: 0.9883 - val_loss: 0.8241 - val_accuracy: 0.7633\n"
          ]
        }
      ],
      "source": [
        "# fit the model\n",
        "# Run the cell. It will take some time to execute\n",
        "r = model.fit(\n",
        "  training_set,\n",
        "  validation_data=test_set,\n",
        "  epochs=10,\n",
        "  steps_per_epoch=len(training_set),\n",
        "  validation_steps=len(test_set)\n",
        ")"
      ]
    },
    {
      "cell_type": "code",
      "execution_count": null,
      "metadata": {
        "id": "o1Ko1dSsoQpI"
      },
      "outputs": [],
      "source": [
        "import matplotlib.pyplot as plt"
      ]
    },
    {
      "cell_type": "code",
      "source": [
        "# plot the loss\n",
        "plt.plot(r.history['loss'], label='train loss')\n",
        "plt.plot(r.history['val_loss'], label='val loss')\n",
        "plt.legend()\n",
        "plt.show()\n",
        "plt.savefig('LossVal_loss')"
      ],
      "metadata": {
        "colab": {
          "base_uri": "https://localhost:8080/",
          "height": 282
        },
        "id": "7vQo-eqrxD8N",
        "outputId": "308e08bf-76e3-4c58-e00c-71db031d9d0c"
      },
      "execution_count": null,
      "outputs": [
        {
          "output_type": "display_data",
          "data": {
            "text/plain": [
              "<Figure size 432x288 with 1 Axes>"
            ],
            "image/png": "[encoded data removed]"
          },
          "metadata": {
            "needs_background": "light"
          }
        },
        {
          "output_type": "display_data",
          "data": {
            "text/plain": [
              "<Figure size 432x288 with 0 Axes>"
            ]
          },
          "metadata": {}
        }
      ]
    },
    {
      "cell_type": "code",
      "execution_count": null,
      "metadata": {
        "colab": {
          "base_uri": "https://localhost:8080/",
          "height": 282
        },
        "id": "4qCxYaAPoQpI",
        "outputId": "9a8eb103-d5a1-4c6c-a153-469e6595d296"
      },
      "outputs": [
        {
          "output_type": "display_data",
          "data": {
            "text/plain": [
              "<Figure size 432x288 with 1 Axes>"
            ],
            "image/png": "[encoded data removed]"
          },
          "metadata": {
            "needs_background": "light"
          }
        },
        {
          "output_type": "display_data",
          "data": {
            "text/plain": [
              "<Figure size 432x288 with 0 Axes>"
            ]
          },
          "metadata": {}
        }
      ],
      "source": [
        "# plot the accuracy\n",
        "plt.plot(r.history['accuracy'], label='train acc')\n",
        "plt.plot(r.history['val_accuracy'], label='val acc')\n",
        "plt.legend()\n",
        "plt.show()\n",
        "plt.savefig('AccVal_acc')"
      ]
    },
    {
      "cell_type": "code",
      "execution_count": null,
      "metadata": {
        "id": "COqsN_kDoQpI"
      },
      "outputs": [],
      "source": [
        "# save it as a h5 file\n",
        "from tensorflow.keras.models import load_model\n",
        "\n",
        "model.save('model_vgg16.h5')"
      ]
    },
    {
      "cell_type": "code",
      "execution_count": null,
      "metadata": {
        "colab": {
          "base_uri": "https://localhost:8080/"
        },
        "id": "x4D5sLfpoQpI",
        "outputId": "2413d53a-1b8c-4ff8-e5df-cc6d534f03fc"
      },
      "outputs": [
        {
          "output_type": "stream",
          "name": "stdout",
          "text": [
            "10/10 [==============================] - 3s 260ms/step\n"
          ]
        }
      ],
      "source": [
        "y_pred = model.predict(test_set)"
      ]
    },
    {
      "cell_type": "code",
      "execution_count": null,
      "metadata": {
        "colab": {
          "base_uri": "https://localhost:8080/"
        },
        "id": "wtlfFRrRoQpI",
        "outputId": "22b51e9f-f041-442c-e2e6-b4338c7d6d26"
      },
      "outputs": [
        {
          "output_type": "execute_result",
          "data": {
            "text/plain": [
              "array([[2.9083315e-01, 5.2650604e-02, 3.8482856e-02, 5.8587462e-01,\n",
              "        3.2158729e-02],\n",
              "       [2.2324188e-02, 2.6481031e-05, 5.2868878e-03, 1.2624444e-03,\n",
              "        9.7109997e-01],\n",
              "       [3.0716700e-03, 5.4579868e-05, 7.2202474e-02, 3.3075389e-01,\n",
              "        5.9391731e-01],\n",
              "       ...,\n",
              "       [1.2634632e-02, 4.0251918e-05, 9.0989739e-01, 6.6354480e-03,\n",
              "        7.0792273e-02],\n",
              "       [3.7586153e-04, 5.4169291e-06, 9.7916198e-01, 3.6646682e-03,\n",
              "        1.6792081e-02],\n",
              "       [3.4715895e-02, 3.7883625e-03, 2.0079222e-02, 3.0392513e-02,\n",
              "        9.1102403e-01]], dtype=float32)"
            ]
          },
          "metadata": {},
          "execution_count": 36
        }
      ],
      "source": [
        "y_pred"
      ]
    },
    {
      "cell_type": "code",
      "execution_count": null,
      "metadata": {
        "id": "C-ICKy-5oQpJ"
      },
      "outputs": [],
      "source": [
        "import numpy as np\n",
        "y_pred = np.argmax(y_pred, axis=1)"
      ]
    },
    {
      "cell_type": "code",
      "execution_count": null,
      "metadata": {
        "colab": {
          "base_uri": "https://localhost:8080/"
        },
        "id": "-GDhHDksoQpJ",
        "outputId": "0be108e3-20df-4dcd-f6a2-6b21d0f5c58c"
      },
      "outputs": [
        {
          "output_type": "execute_result",
          "data": {
            "text/plain": [
              "array([3, 4, 4, 0, 0, 1, 0, 3, 4, 3, 2, 0, 2, 1, 0, 4, 0, 4, 4, 3, 0, 0,\n",
              "       0, 2, 4, 3, 2, 0, 0, 3, 3, 1, 0, 1, 1, 0, 2, 2, 4, 2, 4, 1, 3, 0,\n",
              "       2, 2, 4, 4, 1, 2, 3, 1, 4, 0, 2, 1, 4, 1, 4, 0, 4, 4, 4, 4, 2, 3,\n",
              "       1, 1, 3, 1, 4, 1, 2, 4, 0, 4, 3, 1, 0, 0, 2, 0, 4, 2, 4, 2, 1, 1,\n",
              "       0, 1, 1, 2, 4, 0, 2, 2, 3, 2, 4, 3, 4, 1, 0, 2, 2, 2, 0, 2, 0, 4,\n",
              "       2, 2, 3, 0, 4, 0, 0, 0, 4, 2, 0, 0, 4, 4, 4, 3, 0, 1, 1, 3, 4, 4,\n",
              "       0, 0, 4, 4, 2, 2, 0, 1, 2, 0, 0, 3, 0, 0, 0, 4, 3, 2, 1, 0, 0, 2,\n",
              "       4, 3, 0, 3, 2, 4, 3, 2, 3, 0, 1, 2, 2, 1, 2, 2, 0, 0, 4, 0, 2, 2,\n",
              "       2, 2, 2, 1, 1, 3, 1, 2, 2, 0, 4, 1, 0, 3, 4, 2, 4, 3, 0, 2, 4, 0,\n",
              "       2, 2, 3, 2, 2, 4, 3, 0, 4, 0, 2, 2, 4, 2, 4, 4, 0, 4, 4, 0, 0, 4,\n",
              "       1, 0, 3, 0, 0, 4, 1, 1, 2, 4, 2, 4, 2, 1, 0, 1, 4, 2, 2, 3, 4, 3,\n",
              "       2, 0, 2, 4, 0, 1, 0, 4, 1, 3, 4, 4, 0, 1, 2, 4, 4, 4, 2, 3, 4, 0,\n",
              "       3, 2, 1, 0, 3, 2, 0, 0, 2, 2, 0, 0, 2, 3, 2, 0, 2, 2, 0, 1, 0, 2,\n",
              "       4, 3, 0, 2, 3, 4, 2, 1, 1, 2, 1, 2, 2, 4])"
            ]
          },
          "metadata": {},
          "execution_count": 38
        }
      ],
      "source": [
        "y_pred"
      ]
    },
    {
      "cell_type": "code",
      "execution_count": null,
      "metadata": {
        "id": "kqj7Au6FoQpJ"
      },
      "outputs": [],
      "source": [
        "from tensorflow.keras.models import load_model\n",
        "from tensorflow.keras.preprocessing import image"
      ]
    },
    {
      "cell_type": "code",
      "execution_count": null,
      "metadata": {
        "id": "XL0M50cToQpJ"
      },
      "outputs": [],
      "source": [
        "model=load_model('model_vgg16.h5')"
      ]
    },
    {
      "cell_type": "code",
      "execution_count": null,
      "metadata": {
        "id": "1LximTFLoQpJ"
      },
      "outputs": [],
      "source": [
        "img=image.load_img('tulip.jpg',target_size=(224,224))"
      ]
    },
    {
      "cell_type": "code",
      "execution_count": null,
      "metadata": {
        "colab": {
          "base_uri": "https://localhost:8080/"
        },
        "id": "MCqIwjCioQpJ",
        "outputId": "c306b045-e9b4-4c37-8bbd-c9164cede34a"
      },
      "outputs": [
        {
          "output_type": "execute_result",
          "data": {
            "text/plain": [
              "array([[[215.,  87.,  12.],\n",
              "        [221., 108.,  14.],\n",
              "        [224., 116.,  15.],\n",
              "        ...,\n",
              "        [102.,  22.,  15.],\n",
              "        [103.,  22.,  18.],\n",
              "        [114.,  20.,  20.]],\n",
              "\n",
              "       [[219.,  83.,  21.],\n",
              "        [219.,  98.,  17.],\n",
              "        [223., 108.,  19.],\n",
              "        ...,\n",
              "        [102.,  18.,  16.],\n",
              "        [100.,  19.,  16.],\n",
              "        [107.,  17.,  19.]],\n",
              "\n",
              "       [[219.,  73.,  26.],\n",
              "        [224.,  93.,  25.],\n",
              "        [222.,  96.,  20.],\n",
              "        ...,\n",
              "        [101.,  15.,  18.],\n",
              "        [ 98.,  16.,  18.],\n",
              "        [ 99.,  14.,  17.]],\n",
              "\n",
              "       ...,\n",
              "\n",
              "       [[156.,  16.,  19.],\n",
              "        [153.,  17.,  17.],\n",
              "        [153.,  15.,  15.],\n",
              "        ...,\n",
              "        [ 91.,  17.,  14.],\n",
              "        [ 89.,  18.,  14.],\n",
              "        [ 90.,  19.,  15.]],\n",
              "\n",
              "       [[158.,  15.,  19.],\n",
              "        [155.,  17.,  17.],\n",
              "        [153.,  15.,  15.],\n",
              "        ...,\n",
              "        [ 86.,  17.,  12.],\n",
              "        [ 86.,  17.,  10.],\n",
              "        [ 90.,  21.,  14.]],\n",
              "\n",
              "       [[159.,  14.,  19.],\n",
              "        [156.,  18.,  18.],\n",
              "        [154.,  14.,  15.],\n",
              "        ...,\n",
              "        [ 84.,  17.,  11.],\n",
              "        [ 85.,  16.,   9.],\n",
              "        [ 92.,  22.,  14.]]], dtype=float32)"
            ]
          },
          "metadata": {},
          "execution_count": 42
        }
      ],
      "source": [
        "x=image.img_to_array(img)\n",
        "x"
      ]
    },
    {
      "cell_type": "code",
      "source": [
        "Z = plt.imread('tulip.jpg')\n",
        "plt.imshow(Z)"
      ],
      "metadata": {
        "colab": {
          "base_uri": "https://localhost:8080/",
          "height": 286
        },
        "id": "ndGBT7Ns1xED",
        "outputId": "990d1003-b6e6-4780-8c93-e11b399a3ec8"
      },
      "execution_count": null,
      "outputs": [
        {
          "output_type": "execute_result",
          "data": {
            "text/plain": [
              "<matplotlib.image.AxesImage at 0x7f841ee71730>"
            ]
          },
          "metadata": {},
          "execution_count": 43
        },
        {
          "output_type": "display_data",
          "data": {
            "text/plain": [
              "<Figure size 432x288 with 1 Axes>"
            ],
            "image/png": "[encoded data removed]"
          },
          "metadata": {
            "needs_background": "light"
          }
        }
      ]
    },
    {
      "cell_type": "code",
      "execution_count": null,
      "metadata": {
        "colab": {
          "base_uri": "https://localhost:8080/"
        },
        "id": "XcmlehPvoQpJ",
        "outputId": "fa55a759-9d9e-4cba-ec49-e0d4d029b171"
      },
      "outputs": [
        {
          "output_type": "execute_result",
          "data": {
            "text/plain": [
              "(224, 224, 3)"
            ]
          },
          "metadata": {},
          "execution_count": 44
        }
      ],
      "source": [
        "x.shape"
      ]
    },
    {
      "cell_type": "code",
      "execution_count": null,
      "metadata": {
        "id": "-JxBg8BuoQpK"
      },
      "outputs": [],
      "source": [
        "x=x/255"
      ]
    },
    {
      "cell_type": "code",
      "source": [
        "from keras.applications.vgg16 import preprocess_input"
      ],
      "metadata": {
        "id": "j76htW2Myj1v"
      },
      "execution_count": null,
      "outputs": []
    },
    {
      "cell_type": "code",
      "execution_count": null,
      "metadata": {
        "colab": {
          "base_uri": "https://localhost:8080/"
        },
        "id": "4TPPbmbpoQpK",
        "outputId": "11e295b7-f2d8-4375-8f92-e152463a9b30"
      },
      "outputs": [
        {
          "output_type": "execute_result",
          "data": {
            "text/plain": [
              "(1, 224, 224, 3)"
            ]
          },
          "metadata": {},
          "execution_count": 47
        }
      ],
      "source": [
        "import numpy as np\n",
        "x=np.expand_dims(x,axis=0)\n",
        "img_data=preprocess_input(x)\n",
        "img_data.shape"
      ]
    },
    {
      "cell_type": "code",
      "execution_count": null,
      "metadata": {
        "colab": {
          "base_uri": "https://localhost:8080/"
        },
        "id": "YycqMzQMoQpK",
        "outputId": "5ee42ab4-e34f-4cdc-d635-b75cb2e68ba2"
      },
      "outputs": [
        {
          "output_type": "stream",
          "name": "stdout",
          "text": [
            "1/1 [==============================] - 1s 826ms/step\n"
          ]
        },
        {
          "output_type": "execute_result",
          "data": {
            "text/plain": [
              "array([[6.02148890e-01, 2.40572423e-01, 4.67955954e-02, 1.10459946e-01,\n",
              "        2.31866507e-05]], dtype=float32)"
            ]
          },
          "metadata": {},
          "execution_count": 48
        }
      ],
      "source": [
        "model.predict(img_data)"
      ]
    },
    {
      "cell_type": "code",
      "execution_count": null,
      "metadata": {
        "colab": {
          "base_uri": "https://localhost:8080/"
        },
        "id": "JCnpd8rCoQpK",
        "outputId": "71ede109-bca7-44bc-83fa-d1cfdce89143"
      },
      "outputs": [
        {
          "output_type": "stream",
          "name": "stdout",
          "text": [
            "1/1 [==============================] - 0s 36ms/step\n"
          ]
        }
      ],
      "source": [
        "a=np.argmax(model.predict(img_data), axis=1)"
      ]
    },
    {
      "cell_type": "code",
      "execution_count": null,
      "metadata": {
        "colab": {
          "base_uri": "https://localhost:8080/"
        },
        "id": "N0olnSIooQpK",
        "outputId": "2e420207-61a6-4464-bf69-a016880a7284"
      },
      "outputs": [
        {
          "output_type": "execute_result",
          "data": {
            "text/plain": [
              "array([0])"
            ]
          },
          "metadata": {},
          "execution_count": 50
        }
      ],
      "source": [
        "a"
      ]
    },
    {
      "cell_type": "code",
      "execution_count": null,
      "metadata": {
        "id": "w2J4Puf3oQpK"
      },
      "outputs": [],
      "source": [
        "flower_name = ['dandelion',\n",
        " 'sunflower',\n",
        " 'tulip',\n",
        " 'daisy',\n",
        " 'rose']"
      ]
    },
    {
      "cell_type": "code",
      "source": [
        "flower_name[a[0]]"
      ],
      "metadata": {
        "colab": {
          "base_uri": "https://localhost:8080/",
          "height": 35
        },
        "id": "rkKtWzE50stt",
        "outputId": "b2ed5b8f-9a9e-4ef6-c227-31ed16e25123"
      },
      "execution_count": null,
      "outputs": [
        {
          "output_type": "execute_result",
          "data": {
            "text/plain": [
              "'dandelion'"
            ],
            "application/vnd.google.colaboratory.intrinsic+json": {
              "type": "string"
            }
          },
          "metadata": {},
          "execution_count": 52
        }
      ]
    },
    {
      "cell_type": "code",
      "source": [],
      "metadata": {
        "id": "dzHzmNbUlGU1"
      },
      "execution_count": null,
      "outputs": []
    }
  ],
  "metadata": {
    "kernelspec": {
      "display_name": "Python 3",
      "language": "python",
      "name": "python3"
    },
    "language_info": {
      "codemirror_mode": {
        "name": "ipython",
        "version": 3
      },
      "file_extension": ".py",
      "mimetype": "text/x-python",
      "name": "python",
      "nbconvert_exporter": "python",
      "pygments_lexer": "ipython3",
      "version": "3.7.7"
    },
    "colab": {
      "provenance": [],
      "machine_shape": "hm"
    },
    "accelerator": "GPU",
    "gpuClass": "standard"
  },
  "nbformat": 4,
  "nbformat_minor": 0
}